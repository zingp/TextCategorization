{
 "cells": [
  {
   "cell_type": "code",
   "execution_count": 14,
   "metadata": {},
   "outputs": [],
   "source": [
    "import os\n",
    "import time\n",
    "import torch\n",
    "import pickle as pkl\n",
    "from importlib import import_module"
   ]
  },
  {
   "cell_type": "code",
   "execution_count": 2,
   "metadata": {},
   "outputs": [],
   "source": [
    "dataset = 'data'  # 数据集\n",
    "model_path = \"./data/saved_dict/TextCNN.ckpt\" # 模型\n",
    "vocab_path = \"./data/data/vocab.pkl\"          # 词汇表 \n",
    "embedding = 'embedding_Weibo.npz'             # 裁剪后的embedding\n",
    "model_name = \"TextCNN\"                        # 模型名称\n",
    "PAD = \"<PAD>\"\n",
    "UNK = '<UNK>'"
   ]
  },
  {
   "cell_type": "code",
   "execution_count": 3,
   "metadata": {},
   "outputs": [],
   "source": [
    "def load_vocab(vocab_path):\n",
    "    \"\"\"加载词表\"\"\"\n",
    "    if os.path.exists(vocab_path):\n",
    "        vocab = pkl.load(open(vocab_path, 'rb'))\n",
    "        return vocab\n",
    "    \n",
    "def build_bacth(vocab, s, pad_size=32):\n",
    "    \"\"\"构建输入模型的数据\"\"\"\n",
    "    token = [vocab.get(x, vocab.get(UNK)) for x in s]\n",
    "    seq_len = len(token)\n",
    "    if len(token) < pad_size:\n",
    "        token.extend([vocab.get(PAD)] * (pad_size - len(token)))\n",
    "    else:\n",
    "        token = token[:pad_size]\n",
    "        seq_len = len(token)\n",
    "    token = torch.tensor([token]).to(config.device)\n",
    "    seq_len = torch.tensor([[seq_len]])\n",
    "    return (token, seq_len)\n",
    "\n",
    "def predic(model, x):\n",
    "    \"\"\"预测\"\"\"\n",
    "    with torch.no_grad():\n",
    "        output = model(x)\n",
    "        y = torch.max(output.data, 1)[1].cpu().numpy()\n",
    "    return y"
   ]
  },
  {
   "cell_type": "code",
   "execution_count": 4,
   "metadata": {},
   "outputs": [],
   "source": [
    "vocab = load_vocab(vocab_path)\n",
    "module = import_module('models.' + model_name)\n",
    "config = module.Config(dataset, embedding)"
   ]
  },
  {
   "cell_type": "code",
   "execution_count": 5,
   "metadata": {},
   "outputs": [],
   "source": [
    "model = module.Model(config)"
   ]
  },
  {
   "cell_type": "code",
   "execution_count": 6,
   "metadata": {},
   "outputs": [
    {
     "data": {
      "text/plain": [
       "IncompatibleKeys(missing_keys=[], unexpected_keys=[])"
      ]
     },
     "execution_count": 6,
     "metadata": {},
     "output_type": "execute_result"
    }
   ],
   "source": [
    "model.load_state_dict(torch.load(model_path))"
   ]
  },
  {
   "cell_type": "code",
   "execution_count": 7,
   "metadata": {},
   "outputs": [],
   "source": [
    "model = model.to(config.device)"
   ]
  },
  {
   "cell_type": "code",
   "execution_count": 8,
   "metadata": {},
   "outputs": [
    {
     "data": {
      "text/plain": [
       "Model(\n",
       "  (embedding): Embedding(4075, 300)\n",
       "  (convs): ModuleList(\n",
       "    (0): Conv2d(1, 256, kernel_size=(2, 300), stride=(1, 1))\n",
       "    (1): Conv2d(1, 256, kernel_size=(3, 300), stride=(1, 1))\n",
       "    (2): Conv2d(1, 256, kernel_size=(4, 300), stride=(1, 1))\n",
       "  )\n",
       "  (dropout): Dropout(p=0.5)\n",
       "  (fc): Linear(in_features=768, out_features=2, bias=True)\n",
       ")"
      ]
     },
     "execution_count": 8,
     "metadata": {},
     "output_type": "execute_result"
    }
   ],
   "source": [
    "model.eval()"
   ]
  },
  {
   "cell_type": "code",
   "execution_count": 20,
   "metadata": {},
   "outputs": [],
   "source": [
    "s = \"宝马这个车还可以啊，推荐买它\""
   ]
  },
  {
   "cell_type": "code",
   "execution_count": 23,
   "metadata": {},
   "outputs": [
    {
     "name": "stdout",
     "output_type": "stream",
     "text": [
      "0.0018589496612548828\n"
     ]
    }
   ],
   "source": [
    "start = time.time()\n",
    "x = build_bacth(vocab, s, pad_size=config.pad_size)\n",
    "y = predic(model, x)\n",
    "end = time.time()\n",
    "print(end-start)"
   ]
  },
  {
   "cell_type": "code",
   "execution_count": null,
   "metadata": {},
   "outputs": [],
   "source": []
  },
  {
   "cell_type": "code",
   "execution_count": 24,
   "metadata": {},
   "outputs": [
    {
     "data": {
      "text/plain": [
       "1"
      ]
     },
     "execution_count": 24,
     "metadata": {},
     "output_type": "execute_result"
    }
   ],
   "source": [
    "y[-1]"
   ]
  },
  {
   "cell_type": "code",
   "execution_count": null,
   "metadata": {},
   "outputs": [],
   "source": []
  }
 ],
 "metadata": {
  "kernelspec": {
   "display_name": "Python 3",
   "language": "python",
   "name": "python3"
  },
  "language_info": {
   "codemirror_mode": {
    "name": "ipython",
    "version": 3
   },
   "file_extension": ".py",
   "mimetype": "text/x-python",
   "name": "python",
   "nbconvert_exporter": "python",
   "pygments_lexer": "ipython3",
   "version": "3.6.9"
  }
 },
 "nbformat": 4,
 "nbformat_minor": 2
}
